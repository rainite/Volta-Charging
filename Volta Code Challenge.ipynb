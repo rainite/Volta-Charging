{
 "cells": [
  {
   "cell_type": "markdown",
   "metadata": {},
   "source": [
    "## Send a GET request to get data of stations"
   ]
  },
  {
   "cell_type": "code",
   "execution_count": 1,
   "metadata": {},
   "outputs": [
    {
     "name": "stdout",
     "output_type": "stream",
     "text": [
      "{'id': 'f9831517-e87d-427c-a86e-4b0fcd2d55b7', 'lin': '001-0001-001-01', 'name': 'Pearlridge Center 01', 'status': 'active', 'location': {'type': 'Point', 'coordinates': [-157.941787, 21.384867]}, 'street_address': '1005 Moanalua Road', 'city': 'Aiea', 'state': 'HI', 'zip_code': 96701, 'pay_to_park': False, 'completion_date': '2012-02-19T00:00:00.000Z', 'meters': [{'oem_id': '000000012618', 'oem': 'ekm', 'position': 'left'}]}\n"
     ]
    }
   ],
   "source": [
    "import requests\n",
    "headers = {\n",
    "  'Accept': 'application/json'\n",
    "}\n",
    "\n",
    "r = requests.get('https://api.voltaapi.com/v1/stations', params={\n",
    "\n",
    "}, headers = headers)\n",
    "\n",
    "print (r.json()[0])"
   ]
  },
  {
   "cell_type": "markdown",
   "metadata": {},
   "source": [
    "## Display all of the stations on a map"
   ]
  },
  {
   "cell_type": "code",
   "execution_count": null,
   "metadata": {},
   "outputs": [],
   "source": [
    "lons = [] # Coordinate of Longtitude\n",
    "lats = [] # Coordinate of Latitude\n",
    "for i in r.json():\n",
    "    x,y = i['location']['coordinates']\n",
    "    lons.append(x)\n",
    "    lats.append(y)"
   ]
  },
  {
   "cell_type": "code",
   "execution_count": null,
   "metadata": {
    "scrolled": true
   },
   "outputs": [],
   "source": [
    "from mpl_toolkits.basemap import Basemap\n",
    "import matplotlib.pyplot as plt\n",
    "import numpy as np\n",
    "\n",
    "KM = 1000.\n",
    "clat = 39.3\n",
    "clon = -94.7333\n",
    "wid = 5500 * KM\n",
    "hgt = 3500 * KM\n",
    "\n",
    "def draw_map_background(m, ax):\n",
    "    ax.set_facecolor('#729FCF')\n",
    "    m.fillcontinents(color='#FAFAFA', ax=ax, zorder=0)\n",
    "    m.drawcounties(ax=ax)\n",
    "    m.drawstates(ax=ax)\n",
    "    m.drawcountries(ax=ax)\n",
    "    m.drawcoastlines(ax=ax)\n",
    "\n",
    "# Create figure and axes instances\n",
    "fig = plt.figure(figsize = (15,30))\n",
    "ax = fig.add_subplot(111)\n",
    "\n",
    "# Initialize map\n",
    "m = Basemap(width=wid, height=hgt, rsphere=(6378137.00,6356752.3142),\n",
    "            resolution='i', area_thresh=2500., projection='lcc',\n",
    "            lat_1=38.5, lat_2=38.5, lat_0=clat, lon_0=clon)\n",
    "\n",
    "x,y = m(lons, lats) # Compute map proj coordinates.\n",
    "m.plot(x, y, 'bo', markersize=3)\n",
    "\n",
    "draw_map_background(m, ax)\n",
    "\n",
    "# Add title and show graph\n",
    "plt.title(str(len(lons))+' stations displayed on map')\n",
    "plt.show()"
   ]
  },
  {
   "cell_type": "markdown",
   "metadata": {},
   "source": [
    "## Implement a search by name function"
   ]
  },
  {
   "cell_type": "code",
   "execution_count": null,
   "metadata": {
    "collapsed": true
   },
   "outputs": [],
   "source": [
    "def find(serchByName):\n",
    "    for i in r.json():\n",
    "        name = i['name']\n",
    "        if (name == serchByName):\n",
    "            x,y = i['location']['coordinates']\n",
    "            print('Find one result: ' + name)\n",
    "            return([x,y])"
   ]
  },
  {
   "cell_type": "code",
   "execution_count": null,
   "metadata": {},
   "outputs": [],
   "source": [
    "search = input()\n",
    "\n",
    "lon,lat = find(search)\n",
    "\n",
    "fig2 = plt.figure(figsize = (15,30))\n",
    "ax2 = fig2.add_subplot(111)\n",
    "\n",
    "KM = 1000.\n",
    "clat = 39.3\n",
    "clon = -94.7333\n",
    "wid = 5500 * KM\n",
    "hgt = 3500 * KM\n",
    "\n",
    "m2 = Basemap(width=wid, height=hgt, rsphere=(6378137.00,6356752.3142),\n",
    "            resolution='i', area_thresh=2500., projection='lcc',\n",
    "            lat_1=38.5, lat_2=38.5, lat_0=clat, lon_0=clon)\n",
    "\n",
    "x,y = m2(lon, lat)\n",
    "m2.plot(x, y, 'bo', markersize=1000)\n",
    "\n",
    "draw_map_background(m2, ax2)\n",
    "\n",
    "# Add title and show graph\n",
    "plt.title('Search Result')\n",
    "plt.show()"
   ]
  },
  {
   "cell_type": "code",
   "execution_count": null,
   "metadata": {
    "collapsed": true
   },
   "outputs": [],
   "source": []
  },
  {
   "cell_type": "code",
   "execution_count": null,
   "metadata": {
    "collapsed": true
   },
   "outputs": [],
   "source": []
  }
 ],
 "metadata": {
  "kernelspec": {
   "display_name": "Python 3",
   "language": "python",
   "name": "python3"
  },
  "language_info": {
   "codemirror_mode": {
    "name": "ipython",
    "version": 3
   },
   "file_extension": ".py",
   "mimetype": "text/x-python",
   "name": "python",
   "nbconvert_exporter": "python",
   "pygments_lexer": "ipython3",
   "version": "3.6.2"
  }
 },
 "nbformat": 4,
 "nbformat_minor": 2
}
